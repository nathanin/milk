{
 "cells": [
  {
   "cell_type": "markdown",
   "metadata": {},
   "source": [
    "## Bootstrapping to determine the necessary set\n",
    "\n",
    "1. Find a slide that is predicted correctly under our model.\n",
    "\n",
    "2. Process the slide with random subsets of tiles. Keep N << K if K is the total possible tiles.\n",
    "\n",
    "3. Track the attention for each subset in-place, i.e. indexed w.r.t. the global set of tiles.\n",
    "\n",
    "    - We get back a sparse cube of attentions\n",
    "    \n",
    "    - Also track the predictions made for each subset\n",
    "    \n",
    "4. Take the set of attention images that yield a correct prediction\n",
    "\n",
    "5. Intersect the tiles in the correctly predicted set. The intersection is the set of tiles consistently necessary to give a correct (or incorrect) result."
   ]
  },
  {
   "cell_type": "code",
   "execution_count": 1,
   "metadata": {},
   "outputs": [
    {
     "name": "stdout",
     "output_type": "stream",
     "text": [
      "/home/ing/miniconda3/envs/milk/bin/python\n"
     ]
    }
   ],
   "source": [
    "import sys\n",
    "print(sys.executable)\n",
    "\n",
    "import tensorflow as tf\n",
    "\n",
    "from svs_reader import Slide, reinhard\n",
    "from attimg import draw_attention\n",
    "import numpy as np\n",
    "import shutil\n",
    "import cv2\n",
    "import os\n",
    "\n",
    "from milk.eager import MilkEager\n",
    "from milk.encoder_config import get_encoder_args\n",
    "\n",
    "tf.enable_eager_execution()"
   ]
  },
  {
   "cell_type": "code",
   "execution_count": 2,
   "metadata": {},
   "outputs": [],
   "source": [
    "%matplotlib inline\n",
    "import matplotlib.pyplot as plt"
   ]
  },
  {
   "cell_type": "code",
   "execution_count": 3,
   "metadata": {},
   "outputs": [],
   "source": [
    "def subset_indices(indices, n=100):\n",
    "    subset = np.random.choice(indices, n, replace=False)\n",
    "    return subset"
   ]
  },
  {
   "cell_type": "code",
   "execution_count": 4,
   "metadata": {},
   "outputs": [],
   "source": [
    "def process_slide(svs, model, n=100):\n",
    "    idx_subset = subset_indices(np.arange(len(svs.tile_list)), n=n)\n",
    "\n",
    "    batches = 0\n",
    "    zs = []\n",
    "    indices = []\n",
    "    for k,idx_ in enumerate(idx_subset):\n",
    "        coords = svs.tile_list[idx_]\n",
    "        img = svs._read_tile(coords)\n",
    "        img = tf.constant(np.expand_dims(img, 0))\n",
    "        z = model.encode_bag(img, return_z=True)\n",
    "        zs.append(z)\n",
    "        indices.append(idx_)\n",
    "\n",
    "    zs = tf.concat(zs, axis=0)\n",
    "    indices = np.array(indices)\n",
    "    z_att, att = model.mil_attention(zs, verbose=False, return_att=True)\n",
    "    att = np.squeeze(att)\n",
    "\n",
    "    yhat = model.apply_classifier(z_att, verbose=False)\n",
    "    print('yhat:', yhat)\n",
    "\n",
    "    return yhat, att, indices"
   ]
  },
  {
   "cell_type": "code",
   "execution_count": 5,
   "metadata": {},
   "outputs": [
    {
     "name": "stdout",
     "output_type": "stream",
     "text": [
      "Instantiating a DenseNet with settings:\n",
      "\tdepth_of_model           : 48\n",
      "\tgrowth_rate              : 64\n",
      "\tnum_of_blocks            : 4\n",
      "\tnum_layers_in_each_block : 12\n",
      "\tdropout_rate             : 0.3\n",
      "\tmcdropout                : False\n",
      "\tpool_initial             : True\n",
      "Setting up classifier normalizing layers\n",
      "(1, 1, 96, 96, 3)\n",
      "Encoder Call:\n",
      "n_x:  1\n",
      "x_bag: (1, 1, 96, 96, 3)\n",
      "\t z:  (1, 1456)\n",
      "\tz bag: (1, 1456)\n",
      "attention: (1, 256)\n",
      "attention: (1, 1)\n",
      "attention: (1, 1)\n",
      "features - attention: (1, 1456)\n",
      "z: (1, 1456)\n",
      "z_batch:  (1, 1456)\n",
      "Classifier layer 0\n",
      "Classifier layer 1\n",
      "Classifier layer 2\n",
      "Classifier layer 3\n",
      "Classifier layer 4\n",
      "returning (1, 2)\n"
     ]
    }
   ],
   "source": [
    "snapshot = '../../experiment/wide_model_pretrained/save/2019_03_28_19_01_12.h5'\n",
    "encoder_args = get_encoder_args('wide')\n",
    "model = MilkEager(encoder_args = encoder_args,\n",
    "                  mil_type = 'attention',\n",
    "                  batch_size = 32,\n",
    "                  temperature = 0.5,\n",
    "                  deep_classifier = True)\n",
    "xpl = np.zeros((1, 1, 96, 96, 3), dtype=np.float32)\n",
    "yhat = model(tf.constant(xpl), verbose=True)\n",
    "\n",
    "model.load_weights(snapshot)"
   ]
  },
  {
   "cell_type": "code",
   "execution_count": 6,
   "metadata": {},
   "outputs": [
    {
     "name": "stdout",
     "output_type": "stream",
     "text": [
      "Checking tile read function\n",
      "Passed read check\n"
     ]
    }
   ],
   "source": [
    "# slide_src = '/mnt/linux-data/va-pnbx/0a992a117147f8103c4be76c7b2b5155.svs'\n",
    "slide_src = '/mnt/linux-data/va-pnbx/0a4441e55db6987df0844b3df8c08551.svs'\n",
    "os.path.exists(slide_src)\n",
    "ramdisk_path = '/dev/shm/tmp_svs.svs'\n",
    "shutil.copyfile(slide_src, ramdisk_path)\n",
    "\n",
    "# fgimg_path = '../../usable_area/inference/0a992a117147f8103c4be76c7b2b5155_fg.png'\n",
    "fgimg_path = '../../usable_area/inference/0a4441e55db6987df0844b3df8c08551_fg.png'\n",
    "fgimg = cv2.imread(fgimg_path, 0)\n",
    "\n",
    "svs = Slide(slide_path = ramdisk_path,\n",
    "           background_speed = 'image',\n",
    "           background_image = fgimg,\n",
    "           preprocess_fn = lambda x: (reinhard(x)/255.).astype(np.float32),\n",
    "           process_mag = 5,\n",
    "           process_size = 96,\n",
    "           oversample_factor = 2,\n",
    "           verbose = False)"
   ]
  },
  {
   "cell_type": "code",
   "execution_count": 87,
   "metadata": {
    "scrolled": true
   },
   "outputs": [
    {
     "name": "stdout",
     "output_type": "stream",
     "text": [
      "yhat: tf.Tensor([[0.17028718 0.8297128 ]], shape=(1, 2), dtype=float32)\n",
      "yhat: tf.Tensor([[0.23250484 0.7674951 ]], shape=(1, 2), dtype=float32)\n",
      "yhat: tf.Tensor([[0.28131187 0.7186881 ]], shape=(1, 2), dtype=float32)\n",
      "yhat: tf.Tensor([[0.24541694 0.75458306]], shape=(1, 2), dtype=float32)\n",
      "yhat: tf.Tensor([[0.19210753 0.8078925 ]], shape=(1, 2), dtype=float32)\n",
      "yhat: tf.Tensor([[0.21157071 0.78842926]], shape=(1, 2), dtype=float32)\n",
      "yhat: tf.Tensor([[0.1578838  0.84211624]], shape=(1, 2), dtype=float32)\n",
      "yhat: tf.Tensor([[0.1316773  0.86832273]], shape=(1, 2), dtype=float32)\n",
      "yhat: tf.Tensor([[0.26447752 0.73552245]], shape=(1, 2), dtype=float32)\n",
      "yhat: tf.Tensor([[0.1295769  0.87042314]], shape=(1, 2), dtype=float32)\n",
      "yhat: tf.Tensor([[0.29458883 0.7054112 ]], shape=(1, 2), dtype=float32)\n",
      "yhat: tf.Tensor([[0.23809469 0.7619053 ]], shape=(1, 2), dtype=float32)\n",
      "yhat: tf.Tensor([[0.10467838 0.89532155]], shape=(1, 2), dtype=float32)\n",
      "yhat: tf.Tensor([[0.28197914 0.71802086]], shape=(1, 2), dtype=float32)\n",
      "yhat: tf.Tensor([[0.13215971 0.86784035]], shape=(1, 2), dtype=float32)\n",
      "yhat: tf.Tensor([[0.22269468 0.77730536]], shape=(1, 2), dtype=float32)\n",
      "yhat: tf.Tensor([[0.15713674 0.8428632 ]], shape=(1, 2), dtype=float32)\n",
      "yhat: tf.Tensor([[0.20064847 0.7993516 ]], shape=(1, 2), dtype=float32)\n",
      "yhat: tf.Tensor([[0.31725585 0.68274415]], shape=(1, 2), dtype=float32)\n",
      "yhat: tf.Tensor([[0.26671168 0.73328835]], shape=(1, 2), dtype=float32)\n",
      "yhat: tf.Tensor([[0.29171994 0.70828   ]], shape=(1, 2), dtype=float32)\n",
      "yhat: tf.Tensor([[0.38399354 0.61600643]], shape=(1, 2), dtype=float32)\n",
      "yhat: tf.Tensor([[0.20579201 0.794208  ]], shape=(1, 2), dtype=float32)\n",
      "yhat: tf.Tensor([[0.1338045 0.8661955]], shape=(1, 2), dtype=float32)\n",
      "yhat: tf.Tensor([[0.24591023 0.7540898 ]], shape=(1, 2), dtype=float32)\n",
      "yhat: tf.Tensor([[0.29761162 0.70238835]], shape=(1, 2), dtype=float32)\n",
      "yhat: tf.Tensor([[0.16158563 0.8384144 ]], shape=(1, 2), dtype=float32)\n",
      "yhat: tf.Tensor([[0.14993791 0.8500621 ]], shape=(1, 2), dtype=float32)\n",
      "yhat: tf.Tensor([[0.17171529 0.82828474]], shape=(1, 2), dtype=float32)\n",
      "yhat: tf.Tensor([[0.22936666 0.7706334 ]], shape=(1, 2), dtype=float32)\n",
      "yhat: tf.Tensor([[0.20718952 0.7928105 ]], shape=(1, 2), dtype=float32)\n",
      "yhat: tf.Tensor([[0.25492352 0.74507654]], shape=(1, 2), dtype=float32)\n",
      "yhat: tf.Tensor([[0.12278355 0.87721646]], shape=(1, 2), dtype=float32)\n",
      "yhat: tf.Tensor([[0.30744043 0.69255954]], shape=(1, 2), dtype=float32)\n",
      "yhat: tf.Tensor([[0.2904069 0.7095931]], shape=(1, 2), dtype=float32)\n",
      "yhat: tf.Tensor([[0.22569239 0.7743076 ]], shape=(1, 2), dtype=float32)\n",
      "yhat: tf.Tensor([[0.14955482 0.85044515]], shape=(1, 2), dtype=float32)\n",
      "yhat: tf.Tensor([[0.1914571  0.80854285]], shape=(1, 2), dtype=float32)\n",
      "yhat: tf.Tensor([[0.19910713 0.8008929 ]], shape=(1, 2), dtype=float32)\n",
      "yhat: tf.Tensor([[0.18356976 0.8164303 ]], shape=(1, 2), dtype=float32)\n",
      "yhat: tf.Tensor([[0.2512378  0.74876225]], shape=(1, 2), dtype=float32)\n",
      "yhat: tf.Tensor([[0.18672898 0.813271  ]], shape=(1, 2), dtype=float32)\n",
      "yhat: tf.Tensor([[0.26024655 0.7397534 ]], shape=(1, 2), dtype=float32)\n",
      "yhat: tf.Tensor([[0.3195334  0.68046653]], shape=(1, 2), dtype=float32)\n",
      "yhat: tf.Tensor([[0.24257039 0.7574296 ]], shape=(1, 2), dtype=float32)\n",
      "yhat: tf.Tensor([[0.31586334 0.6841367 ]], shape=(1, 2), dtype=float32)\n",
      "yhat: tf.Tensor([[0.30015412 0.69984585]], shape=(1, 2), dtype=float32)\n",
      "yhat: tf.Tensor([[0.2205803 0.7794198]], shape=(1, 2), dtype=float32)\n",
      "yhat: tf.Tensor([[0.18368702 0.8163129 ]], shape=(1, 2), dtype=float32)\n",
      "yhat: tf.Tensor([[0.24773183 0.7522682 ]], shape=(1, 2), dtype=float32)\n",
      "yhat: tf.Tensor([[0.15601566 0.8439843 ]], shape=(1, 2), dtype=float32)\n",
      "yhat: tf.Tensor([[0.30379525 0.6962048 ]], shape=(1, 2), dtype=float32)\n",
      "yhat: tf.Tensor([[0.2418903 0.7581097]], shape=(1, 2), dtype=float32)\n",
      "yhat: tf.Tensor([[0.20906518 0.7909348 ]], shape=(1, 2), dtype=float32)\n",
      "yhat: tf.Tensor([[0.24008983 0.75991017]], shape=(1, 2), dtype=float32)\n",
      "yhat: tf.Tensor([[0.15578184 0.8442182 ]], shape=(1, 2), dtype=float32)\n",
      "yhat: tf.Tensor([[0.35381812 0.6461819 ]], shape=(1, 2), dtype=float32)\n",
      "yhat: tf.Tensor([[0.13882844 0.8611716 ]], shape=(1, 2), dtype=float32)\n",
      "yhat: tf.Tensor([[0.12774965 0.8722504 ]], shape=(1, 2), dtype=float32)\n",
      "yhat: tf.Tensor([[0.18154497 0.818455  ]], shape=(1, 2), dtype=float32)\n",
      "yhat: tf.Tensor([[0.07188421 0.9281157 ]], shape=(1, 2), dtype=float32)\n",
      "yhat: tf.Tensor([[0.1848403 0.8151597]], shape=(1, 2), dtype=float32)\n",
      "yhat: tf.Tensor([[0.20597394 0.794026  ]], shape=(1, 2), dtype=float32)\n",
      "yhat: tf.Tensor([[0.23654205 0.76345795]], shape=(1, 2), dtype=float32)\n",
      "yhat: tf.Tensor([[0.1765087  0.82349133]], shape=(1, 2), dtype=float32)\n",
      "yhat: tf.Tensor([[0.13344745 0.86655253]], shape=(1, 2), dtype=float32)\n",
      "yhat: tf.Tensor([[0.11846614 0.8815338 ]], shape=(1, 2), dtype=float32)\n",
      "yhat: tf.Tensor([[0.47184935 0.5281506 ]], shape=(1, 2), dtype=float32)\n",
      "yhat: tf.Tensor([[0.16882162 0.83117837]], shape=(1, 2), dtype=float32)\n",
      "yhat: tf.Tensor([[0.10845742 0.8915426 ]], shape=(1, 2), dtype=float32)\n",
      "yhat: tf.Tensor([[0.14292662 0.85707337]], shape=(1, 2), dtype=float32)\n",
      "yhat: tf.Tensor([[0.14570007 0.85429996]], shape=(1, 2), dtype=float32)\n",
      "yhat: tf.Tensor([[0.33885348 0.6611465 ]], shape=(1, 2), dtype=float32)\n",
      "yhat: tf.Tensor([[0.22248243 0.7775176 ]], shape=(1, 2), dtype=float32)\n",
      "yhat: tf.Tensor([[0.2996919  0.70030814]], shape=(1, 2), dtype=float32)\n",
      "yhat: tf.Tensor([[0.24443637 0.7555636 ]], shape=(1, 2), dtype=float32)\n",
      "yhat: tf.Tensor([[0.24875115 0.7512489 ]], shape=(1, 2), dtype=float32)\n",
      "yhat: tf.Tensor([[0.21779098 0.782209  ]], shape=(1, 2), dtype=float32)\n",
      "yhat: tf.Tensor([[0.51123905 0.4887609 ]], shape=(1, 2), dtype=float32)\n",
      "yhat: tf.Tensor([[0.13951243 0.8604876 ]], shape=(1, 2), dtype=float32)\n",
      "yhat: tf.Tensor([[0.18082803 0.819172  ]], shape=(1, 2), dtype=float32)\n",
      "yhat: tf.Tensor([[0.40962443 0.59037554]], shape=(1, 2), dtype=float32)\n",
      "yhat: tf.Tensor([[0.14318874 0.8568112 ]], shape=(1, 2), dtype=float32)\n",
      "yhat: tf.Tensor([[0.28183308 0.71816695]], shape=(1, 2), dtype=float32)\n",
      "yhat: tf.Tensor([[0.20924404 0.7907559 ]], shape=(1, 2), dtype=float32)\n",
      "yhat: tf.Tensor([[0.2767853 0.7232146]], shape=(1, 2), dtype=float32)\n",
      "yhat: tf.Tensor([[0.18170342 0.8182966 ]], shape=(1, 2), dtype=float32)\n",
      "yhat: tf.Tensor([[0.44881618 0.5511838 ]], shape=(1, 2), dtype=float32)\n",
      "yhat: tf.Tensor([[0.09238049 0.90761954]], shape=(1, 2), dtype=float32)\n",
      "yhat: tf.Tensor([[0.20665747 0.79334253]], shape=(1, 2), dtype=float32)\n",
      "yhat: tf.Tensor([[0.21152462 0.7884754 ]], shape=(1, 2), dtype=float32)\n",
      "yhat: tf.Tensor([[0.24483146 0.75516856]], shape=(1, 2), dtype=float32)\n",
      "yhat: tf.Tensor([[0.3563236  0.64367634]], shape=(1, 2), dtype=float32)\n",
      "yhat: tf.Tensor([[0.1573658 0.8426342]], shape=(1, 2), dtype=float32)\n",
      "yhat: tf.Tensor([[0.3671209  0.63287914]], shape=(1, 2), dtype=float32)\n",
      "yhat: tf.Tensor([[0.51439863 0.4856014 ]], shape=(1, 2), dtype=float32)\n",
      "yhat: tf.Tensor([[0.1242663  0.87573373]], shape=(1, 2), dtype=float32)\n",
      "yhat: tf.Tensor([[0.21900162 0.78099835]], shape=(1, 2), dtype=float32)\n",
      "yhat: tf.Tensor([[0.14618337 0.85381657]], shape=(1, 2), dtype=float32)\n",
      "yhat: tf.Tensor([[0.21603045 0.7839695 ]], shape=(1, 2), dtype=float32)\n",
      "yhat: tf.Tensor([[0.11092681 0.88907313]], shape=(1, 2), dtype=float32)\n",
      "yhat: tf.Tensor([[0.15822247 0.84177756]], shape=(1, 2), dtype=float32)\n",
      "yhat: tf.Tensor([[0.22013982 0.77986014]], shape=(1, 2), dtype=float32)\n",
      "yhat: tf.Tensor([[0.2138891 0.7861109]], shape=(1, 2), dtype=float32)\n",
      "yhat: tf.Tensor([[0.20092511 0.7990749 ]], shape=(1, 2), dtype=float32)\n",
      "yhat: tf.Tensor([[0.20448199 0.79551804]], shape=(1, 2), dtype=float32)\n",
      "yhat: tf.Tensor([[0.41472018 0.58527976]], shape=(1, 2), dtype=float32)\n",
      "yhat: tf.Tensor([[0.29693314 0.7030668 ]], shape=(1, 2), dtype=float32)\n",
      "yhat: tf.Tensor([[0.19844908 0.8015509 ]], shape=(1, 2), dtype=float32)\n",
      "yhat: tf.Tensor([[0.17982207 0.8201779 ]], shape=(1, 2), dtype=float32)\n",
      "yhat: tf.Tensor([[0.35009205 0.649908  ]], shape=(1, 2), dtype=float32)\n",
      "yhat: tf.Tensor([[0.30561844 0.69438154]], shape=(1, 2), dtype=float32)\n",
      "yhat: tf.Tensor([[0.20360701 0.796393  ]], shape=(1, 2), dtype=float32)\n",
      "yhat: tf.Tensor([[0.10897116 0.8910288 ]], shape=(1, 2), dtype=float32)\n",
      "yhat: tf.Tensor([[0.17872566 0.82127434]], shape=(1, 2), dtype=float32)\n"
     ]
    },
    {
     "name": "stdout",
     "output_type": "stream",
     "text": [
      "yhat: tf.Tensor([[0.16939336 0.83060664]], shape=(1, 2), dtype=float32)\n",
      "yhat: tf.Tensor([[0.15621272 0.8437873 ]], shape=(1, 2), dtype=float32)\n",
      "yhat: tf.Tensor([[0.46549246 0.5345076 ]], shape=(1, 2), dtype=float32)\n",
      "yhat: tf.Tensor([[0.20434041 0.7956596 ]], shape=(1, 2), dtype=float32)\n",
      "yhat: tf.Tensor([[0.26022878 0.73977125]], shape=(1, 2), dtype=float32)\n",
      "yhat: tf.Tensor([[0.0697713 0.9302287]], shape=(1, 2), dtype=float32)\n",
      "yhat: tf.Tensor([[0.11939174 0.88060826]], shape=(1, 2), dtype=float32)\n",
      "yhat: tf.Tensor([[0.21955636 0.78044367]], shape=(1, 2), dtype=float32)\n",
      "yhat: tf.Tensor([[0.24522904 0.75477093]], shape=(1, 2), dtype=float32)\n",
      "yhat: tf.Tensor([[0.16591577 0.8340843 ]], shape=(1, 2), dtype=float32)\n",
      "yhat: tf.Tensor([[0.16589236 0.83410764]], shape=(1, 2), dtype=float32)\n",
      "yhat: tf.Tensor([[0.20401679 0.79598325]], shape=(1, 2), dtype=float32)\n",
      "yhat: tf.Tensor([[0.22418794 0.77581203]], shape=(1, 2), dtype=float32)\n",
      "yhat: tf.Tensor([[0.18792327 0.81207675]], shape=(1, 2), dtype=float32)\n",
      "yhat: tf.Tensor([[0.23759916 0.76240087]], shape=(1, 2), dtype=float32)\n",
      "yhat: tf.Tensor([[0.32567883 0.6743212 ]], shape=(1, 2), dtype=float32)\n",
      "yhat: tf.Tensor([[0.17070006 0.8293    ]], shape=(1, 2), dtype=float32)\n",
      "yhat: tf.Tensor([[0.3016779  0.69832206]], shape=(1, 2), dtype=float32)\n",
      "yhat: tf.Tensor([[0.32057473 0.6794253 ]], shape=(1, 2), dtype=float32)\n",
      "yhat: tf.Tensor([[0.12685429 0.87314576]], shape=(1, 2), dtype=float32)\n",
      "yhat: tf.Tensor([[0.14506175 0.85493827]], shape=(1, 2), dtype=float32)\n",
      "yhat: tf.Tensor([[0.4153522 0.5846478]], shape=(1, 2), dtype=float32)\n",
      "yhat: tf.Tensor([[0.32443732 0.6755627 ]], shape=(1, 2), dtype=float32)\n",
      "yhat: tf.Tensor([[0.16591263 0.8340873 ]], shape=(1, 2), dtype=float32)\n",
      "yhat: tf.Tensor([[0.29907712 0.7009229 ]], shape=(1, 2), dtype=float32)\n",
      "yhat: tf.Tensor([[0.17325826 0.82674176]], shape=(1, 2), dtype=float32)\n",
      "yhat: tf.Tensor([[0.12886807 0.87113196]], shape=(1, 2), dtype=float32)\n",
      "yhat: tf.Tensor([[0.26678497 0.7332151 ]], shape=(1, 2), dtype=float32)\n",
      "yhat: tf.Tensor([[0.31444502 0.6855549 ]], shape=(1, 2), dtype=float32)\n",
      "yhat: tf.Tensor([[0.08558817 0.9144118 ]], shape=(1, 2), dtype=float32)\n",
      "yhat: tf.Tensor([[0.25249004 0.74751   ]], shape=(1, 2), dtype=float32)\n",
      "yhat: tf.Tensor([[0.29160568 0.70839435]], shape=(1, 2), dtype=float32)\n",
      "yhat: tf.Tensor([[0.11802023 0.8819797 ]], shape=(1, 2), dtype=float32)\n",
      "yhat: tf.Tensor([[0.26366398 0.73633605]], shape=(1, 2), dtype=float32)\n",
      "yhat: tf.Tensor([[0.26706383 0.73293614]], shape=(1, 2), dtype=float32)\n",
      "yhat: tf.Tensor([[0.31576404 0.684236  ]], shape=(1, 2), dtype=float32)\n",
      "yhat: tf.Tensor([[0.40048495 0.5995151 ]], shape=(1, 2), dtype=float32)\n",
      "yhat: tf.Tensor([[0.22097167 0.7790283 ]], shape=(1, 2), dtype=float32)\n",
      "yhat: tf.Tensor([[0.14256981 0.85743016]], shape=(1, 2), dtype=float32)\n",
      "yhat: tf.Tensor([[0.3064214  0.69357854]], shape=(1, 2), dtype=float32)\n",
      "yhat: tf.Tensor([[0.2538453  0.74615467]], shape=(1, 2), dtype=float32)\n",
      "yhat: tf.Tensor([[0.22868381 0.7713162 ]], shape=(1, 2), dtype=float32)\n",
      "yhat: tf.Tensor([[0.09326496 0.90673506]], shape=(1, 2), dtype=float32)\n",
      "yhat: tf.Tensor([[0.21961157 0.7803884 ]], shape=(1, 2), dtype=float32)\n",
      "yhat: tf.Tensor([[0.20020896 0.79979104]], shape=(1, 2), dtype=float32)\n",
      "yhat: tf.Tensor([[0.09975456 0.9002455 ]], shape=(1, 2), dtype=float32)\n",
      "yhat: tf.Tensor([[0.25209916 0.7479008 ]], shape=(1, 2), dtype=float32)\n",
      "yhat: tf.Tensor([[0.25982702 0.7401729 ]], shape=(1, 2), dtype=float32)\n",
      "yhat: tf.Tensor([[0.18070179 0.81929827]], shape=(1, 2), dtype=float32)\n",
      "yhat: tf.Tensor([[0.2598417 0.7401583]], shape=(1, 2), dtype=float32)\n",
      "yhat: tf.Tensor([[0.25270158 0.7472984 ]], shape=(1, 2), dtype=float32)\n",
      "yhat: tf.Tensor([[0.32216144 0.6778386 ]], shape=(1, 2), dtype=float32)\n",
      "yhat: tf.Tensor([[0.19596173 0.8040383 ]], shape=(1, 2), dtype=float32)\n",
      "yhat: tf.Tensor([[0.12761086 0.87238914]], shape=(1, 2), dtype=float32)\n",
      "yhat: tf.Tensor([[0.13262013 0.8673799 ]], shape=(1, 2), dtype=float32)\n",
      "yhat: tf.Tensor([[0.15736687 0.8426331 ]], shape=(1, 2), dtype=float32)\n",
      "yhat: tf.Tensor([[0.25834745 0.74165255]], shape=(1, 2), dtype=float32)\n",
      "yhat: tf.Tensor([[0.14139797 0.85860205]], shape=(1, 2), dtype=float32)\n",
      "yhat: tf.Tensor([[0.17359383 0.8264062 ]], shape=(1, 2), dtype=float32)\n",
      "yhat: tf.Tensor([[0.18812285 0.8118772 ]], shape=(1, 2), dtype=float32)\n",
      "yhat: tf.Tensor([[0.3023565 0.6976435]], shape=(1, 2), dtype=float32)\n",
      "yhat: tf.Tensor([[0.18010639 0.8198936 ]], shape=(1, 2), dtype=float32)\n",
      "yhat: tf.Tensor([[0.28212863 0.7178714 ]], shape=(1, 2), dtype=float32)\n",
      "yhat: tf.Tensor([[0.21524477 0.78475523]], shape=(1, 2), dtype=float32)\n",
      "yhat: tf.Tensor([[0.23003969 0.7699603 ]], shape=(1, 2), dtype=float32)\n",
      "yhat: tf.Tensor([[0.21606073 0.78393924]], shape=(1, 2), dtype=float32)\n",
      "yhat: tf.Tensor([[0.18355589 0.8164441 ]], shape=(1, 2), dtype=float32)\n",
      "yhat: tf.Tensor([[0.17119849 0.82880145]], shape=(1, 2), dtype=float32)\n",
      "yhat: tf.Tensor([[0.118354   0.88164604]], shape=(1, 2), dtype=float32)\n",
      "yhat: tf.Tensor([[0.1565926  0.84340745]], shape=(1, 2), dtype=float32)\n",
      "yhat: tf.Tensor([[0.12858073 0.8714193 ]], shape=(1, 2), dtype=float32)\n",
      "yhat: tf.Tensor([[0.22620797 0.773792  ]], shape=(1, 2), dtype=float32)\n",
      "yhat: tf.Tensor([[0.12099003 0.8790099 ]], shape=(1, 2), dtype=float32)\n",
      "yhat: tf.Tensor([[0.3220169 0.6779831]], shape=(1, 2), dtype=float32)\n",
      "yhat: tf.Tensor([[0.11895897 0.881041  ]], shape=(1, 2), dtype=float32)\n",
      "yhat: tf.Tensor([[0.09699563 0.90300435]], shape=(1, 2), dtype=float32)\n",
      "yhat: tf.Tensor([[0.23325098 0.766749  ]], shape=(1, 2), dtype=float32)\n",
      "yhat: tf.Tensor([[0.24126229 0.75873774]], shape=(1, 2), dtype=float32)\n",
      "yhat: tf.Tensor([[0.11209208 0.8879079 ]], shape=(1, 2), dtype=float32)\n",
      "yhat: tf.Tensor([[0.27841023 0.72158974]], shape=(1, 2), dtype=float32)\n",
      "yhat: tf.Tensor([[0.23252048 0.76747954]], shape=(1, 2), dtype=float32)\n",
      "yhat: tf.Tensor([[0.45255497 0.547445  ]], shape=(1, 2), dtype=float32)\n",
      "yhat: tf.Tensor([[0.24295329 0.75704676]], shape=(1, 2), dtype=float32)\n",
      "yhat: tf.Tensor([[0.12215126 0.8778488 ]], shape=(1, 2), dtype=float32)\n",
      "yhat: tf.Tensor([[0.14214228 0.8578577 ]], shape=(1, 2), dtype=float32)\n",
      "yhat: tf.Tensor([[0.31122074 0.68877923]], shape=(1, 2), dtype=float32)\n",
      "yhat: tf.Tensor([[0.19458413 0.8054158 ]], shape=(1, 2), dtype=float32)\n",
      "yhat: tf.Tensor([[0.2674981  0.73250186]], shape=(1, 2), dtype=float32)\n",
      "yhat: tf.Tensor([[0.30791613 0.69208384]], shape=(1, 2), dtype=float32)\n",
      "yhat: tf.Tensor([[0.2381332  0.76186687]], shape=(1, 2), dtype=float32)\n",
      "yhat: tf.Tensor([[0.14984372 0.8501563 ]], shape=(1, 2), dtype=float32)\n",
      "yhat: tf.Tensor([[0.32493573 0.67506427]], shape=(1, 2), dtype=float32)\n",
      "yhat: tf.Tensor([[0.21216999 0.78783005]], shape=(1, 2), dtype=float32)\n",
      "yhat: tf.Tensor([[0.19929174 0.80070823]], shape=(1, 2), dtype=float32)\n",
      "yhat: tf.Tensor([[0.18175246 0.8182475 ]], shape=(1, 2), dtype=float32)\n",
      "yhat: tf.Tensor([[0.3119321 0.6880679]], shape=(1, 2), dtype=float32)\n",
      "yhat: tf.Tensor([[0.15844879 0.84155124]], shape=(1, 2), dtype=float32)\n",
      "yhat: tf.Tensor([[0.22851641 0.7714836 ]], shape=(1, 2), dtype=float32)\n",
      "yhat: tf.Tensor([[0.14119866 0.8588013 ]], shape=(1, 2), dtype=float32)\n",
      "yhat: tf.Tensor([[0.12417141 0.87582856]], shape=(1, 2), dtype=float32)\n",
      "yhat: tf.Tensor([[0.24255835 0.75744164]], shape=(1, 2), dtype=float32)\n",
      "yhat: tf.Tensor([[0.15939887 0.8406011 ]], shape=(1, 2), dtype=float32)\n",
      "yhat: tf.Tensor([[0.14791092 0.85208905]], shape=(1, 2), dtype=float32)\n",
      "yhat: tf.Tensor([[0.25591683 0.7440832 ]], shape=(1, 2), dtype=float32)\n",
      "yhat: tf.Tensor([[0.18889807 0.811102  ]], shape=(1, 2), dtype=float32)\n",
      "yhat: tf.Tensor([[0.27987683 0.7201232 ]], shape=(1, 2), dtype=float32)\n",
      "yhat: tf.Tensor([[0.22833686 0.7716631 ]], shape=(1, 2), dtype=float32)\n",
      "yhat: tf.Tensor([[0.10867973 0.8913202 ]], shape=(1, 2), dtype=float32)\n",
      "yhat: tf.Tensor([[0.17605169 0.8239483 ]], shape=(1, 2), dtype=float32)\n",
      "yhat: tf.Tensor([[0.27600563 0.7239944 ]], shape=(1, 2), dtype=float32)\n",
      "yhat: tf.Tensor([[0.2778475 0.7221525]], shape=(1, 2), dtype=float32)\n",
      "yhat: tf.Tensor([[0.1080149 0.8919851]], shape=(1, 2), dtype=float32)\n",
      "yhat: tf.Tensor([[0.22038807 0.77961195]], shape=(1, 2), dtype=float32)\n",
      "yhat: tf.Tensor([[0.2082545 0.7917454]], shape=(1, 2), dtype=float32)\n",
      "yhat: tf.Tensor([[0.13815495 0.8618451 ]], shape=(1, 2), dtype=float32)\n"
     ]
    },
    {
     "name": "stdout",
     "output_type": "stream",
     "text": [
      "yhat: tf.Tensor([[0.088067 0.911933]], shape=(1, 2), dtype=float32)\n",
      "yhat: tf.Tensor([[0.15784788 0.8421521 ]], shape=(1, 2), dtype=float32)\n",
      "yhat: tf.Tensor([[0.23546879 0.76453125]], shape=(1, 2), dtype=float32)\n",
      "yhat: tf.Tensor([[0.14299963 0.85700035]], shape=(1, 2), dtype=float32)\n",
      "yhat: tf.Tensor([[0.18699539 0.81300455]], shape=(1, 2), dtype=float32)\n",
      "yhat: tf.Tensor([[0.20724873 0.7927512 ]], shape=(1, 2), dtype=float32)\n",
      "yhat: tf.Tensor([[0.4138466 0.5861534]], shape=(1, 2), dtype=float32)\n",
      "yhat: tf.Tensor([[0.14546458 0.85453546]], shape=(1, 2), dtype=float32)\n",
      "yhat: tf.Tensor([[0.23039101 0.769609  ]], shape=(1, 2), dtype=float32)\n",
      "yhat: tf.Tensor([[0.2470204  0.75297964]], shape=(1, 2), dtype=float32)\n",
      "yhat: tf.Tensor([[0.17349468 0.8265053 ]], shape=(1, 2), dtype=float32)\n",
      "yhat: tf.Tensor([[0.36237586 0.6376242 ]], shape=(1, 2), dtype=float32)\n",
      "yhat: tf.Tensor([[0.16137329 0.8386267 ]], shape=(1, 2), dtype=float32)\n",
      "yhat: tf.Tensor([[0.18257123 0.8174288 ]], shape=(1, 2), dtype=float32)\n",
      "yhat: tf.Tensor([[0.23063403 0.76936597]], shape=(1, 2), dtype=float32)\n",
      "yhat: tf.Tensor([[0.2797452 0.7202548]], shape=(1, 2), dtype=float32)\n",
      "yhat: tf.Tensor([[0.17635754 0.82364243]], shape=(1, 2), dtype=float32)\n",
      "yhat: tf.Tensor([[0.11447398 0.88552606]], shape=(1, 2), dtype=float32)\n",
      "yhat: tf.Tensor([[0.20268928 0.7973107 ]], shape=(1, 2), dtype=float32)\n",
      "yhat: tf.Tensor([[0.16512102 0.83487904]], shape=(1, 2), dtype=float32)\n"
     ]
    }
   ],
   "source": [
    "yhats, atts, indices = [], [], [] \n",
    "for k in range(250):\n",
    "    yhat, att, idx = process_slide(svs, model, n=50)\n",
    "    yhats.append(yhat)\n",
    "    atts.append(att)\n",
    "    indices.append(idx)"
   ]
  },
  {
   "cell_type": "code",
   "execution_count": 94,
   "metadata": {},
   "outputs": [],
   "source": [
    "# attvects = np.zeros(len(svs.tile_list))\n",
    "attvects = []\n",
    "timespicked = []\n",
    "for k in range(250):\n",
    "    if yhats[k].numpy()[0,1] > 0.85:\n",
    "        attvect = np.zeros(len(svs.tile_list))\n",
    "        attvect[indices[k]] = atts[k]\n",
    "        attvect[attvect == 0] = np.nan\n",
    "        attvects.append(attvect)\n",
    "        timespicked.append(np.logical_not(np.isnan(attvect)))"
   ]
  },
  {
   "cell_type": "code",
   "execution_count": 95,
   "metadata": {},
   "outputs": [
    {
     "name": "stdout",
     "output_type": "stream",
     "text": [
      "55\n",
      "0 5\n"
     ]
    }
   ],
   "source": [
    "print(len(timespicked))\n",
    "total_timespicked = np.sum(timespicked, axis=0)\n",
    "print(total_timespicked.min(), total_timespicked.max())"
   ]
  },
  {
   "cell_type": "code",
   "execution_count": 97,
   "metadata": {},
   "outputs": [
    {
     "name": "stderr",
     "output_type": "stream",
     "text": [
      "/home/ing/miniconda3/envs/milk/lib/python3.6/site-packages/ipykernel_launcher.py:2: RuntimeWarning: Mean of empty slice\n",
      "  \n"
     ]
    }
   ],
   "source": [
    "import cv2\n",
    "attmean = np.nanmean(attvects, axis=0)\n",
    "attmean[np.isnan(attmean)] = 0\n",
    "cutoff = np.quantile(attmean[attmean > 0], 0.95)\n",
    "for idx in np.argwhere(attmean > cutoff):\n",
    "    img = svs._read_tile(svs.tile_list[idx[0]])\n",
    "    cv2.imwrite('high-att/{:3.3f}_{}_{}.jpg'.format(attmean[idx[0]],idx[0],total_timespicked[idx][0]), \n",
    "                img[:,:,::-1] * 255)"
   ]
  },
  {
   "cell_type": "code",
   "execution_count": 91,
   "metadata": {},
   "outputs": [],
   "source": [
    "attimgs = []\n",
    "for k in range(50):\n",
    "    if yhats[k].numpy()[0,1] > 0.9:\n",
    "        output_name = 'aggr{}'.format(k)\n",
    "        svs.initialize_output(name=output_name, dim=1, mode='tile')\n",
    "        svs.place_batch(atts[k], indices[k], output_name, mode='tile')\n",
    "        attimg = np.squeeze(svs.output_imgs[output_name])\n",
    "        attimgs.append(attimg)"
   ]
  },
  {
   "cell_type": "code",
   "execution_count": 92,
   "metadata": {},
   "outputs": [
    {
     "name": "stdout",
     "output_type": "stream",
     "text": [
      "()\n"
     ]
    },
    {
     "ename": "ValueError",
     "evalue": "not enough values to unpack (expected 2, got 0)",
     "output_type": "error",
     "traceback": [
      "\u001b[0;31m---------------------------------------------------------------------------\u001b[0m",
      "\u001b[0;31mValueError\u001b[0m                                Traceback (most recent call last)",
      "\u001b[0;32m<ipython-input-92-6a71317c6b69>\u001b[0m in \u001b[0;36m<module>\u001b[0;34m\u001b[0m\n\u001b[1;32m      3\u001b[0m \u001b[0;34m\u001b[0m\u001b[0m\n\u001b[1;32m      4\u001b[0m \u001b[0mplt\u001b[0m\u001b[0;34m.\u001b[0m\u001b[0mfigure\u001b[0m\u001b[0;34m(\u001b[0m\u001b[0mdpi\u001b[0m\u001b[0;34m=\u001b[0m\u001b[0;36m300\u001b[0m\u001b[0;34m)\u001b[0m\u001b[0;34m\u001b[0m\u001b[0;34m\u001b[0m\u001b[0m\n\u001b[0;32m----> 5\u001b[0;31m \u001b[0mplt\u001b[0m\u001b[0;34m.\u001b[0m\u001b[0mmatshow\u001b[0m\u001b[0;34m(\u001b[0m\u001b[0mmeanatt\u001b[0m\u001b[0;34m)\u001b[0m\u001b[0;34m\u001b[0m\u001b[0;34m\u001b[0m\u001b[0m\n\u001b[0m\u001b[1;32m      6\u001b[0m \u001b[0mplt\u001b[0m\u001b[0;34m.\u001b[0m\u001b[0mcolorbar\u001b[0m\u001b[0;34m(\u001b[0m\u001b[0;34m)\u001b[0m\u001b[0;34m\u001b[0m\u001b[0;34m\u001b[0m\u001b[0m\n",
      "\u001b[0;32m~/miniconda3/envs/milk/lib/python3.6/site-packages/matplotlib/pyplot.py\u001b[0m in \u001b[0;36mmatshow\u001b[0;34m(A, fignum, **kwargs)\u001b[0m\n\u001b[1;32m   2424\u001b[0m     \u001b[0;32melse\u001b[0m\u001b[0;34m:\u001b[0m\u001b[0;34m\u001b[0m\u001b[0;34m\u001b[0m\u001b[0m\n\u001b[1;32m   2425\u001b[0m         \u001b[0;31m# Extract actual aspect ratio of array and make appropriately sized figure\u001b[0m\u001b[0;34m\u001b[0m\u001b[0;34m\u001b[0m\u001b[0;34m\u001b[0m\u001b[0m\n\u001b[0;32m-> 2426\u001b[0;31m         \u001b[0mfig\u001b[0m \u001b[0;34m=\u001b[0m \u001b[0mfigure\u001b[0m\u001b[0;34m(\u001b[0m\u001b[0mfignum\u001b[0m\u001b[0;34m,\u001b[0m \u001b[0mfigsize\u001b[0m\u001b[0;34m=\u001b[0m\u001b[0mfigaspect\u001b[0m\u001b[0;34m(\u001b[0m\u001b[0mA\u001b[0m\u001b[0;34m)\u001b[0m\u001b[0;34m)\u001b[0m\u001b[0;34m\u001b[0m\u001b[0;34m\u001b[0m\u001b[0m\n\u001b[0m\u001b[1;32m   2427\u001b[0m         \u001b[0max\u001b[0m  \u001b[0;34m=\u001b[0m \u001b[0mfig\u001b[0m\u001b[0;34m.\u001b[0m\u001b[0madd_axes\u001b[0m\u001b[0;34m(\u001b[0m\u001b[0;34m[\u001b[0m\u001b[0;36m0.15\u001b[0m\u001b[0;34m,\u001b[0m \u001b[0;36m0.09\u001b[0m\u001b[0;34m,\u001b[0m \u001b[0;36m0.775\u001b[0m\u001b[0;34m,\u001b[0m \u001b[0;36m0.775\u001b[0m\u001b[0;34m]\u001b[0m\u001b[0;34m)\u001b[0m\u001b[0;34m\u001b[0m\u001b[0;34m\u001b[0m\u001b[0m\n\u001b[1;32m   2428\u001b[0m \u001b[0;34m\u001b[0m\u001b[0m\n",
      "\u001b[0;32m~/miniconda3/envs/milk/lib/python3.6/site-packages/matplotlib/figure.py\u001b[0m in \u001b[0;36mfigaspect\u001b[0;34m(arg)\u001b[0m\n\u001b[1;32m   2508\u001b[0m     \u001b[0;31m# Extract the aspect ratio of the array\u001b[0m\u001b[0;34m\u001b[0m\u001b[0;34m\u001b[0m\u001b[0;34m\u001b[0m\u001b[0m\n\u001b[1;32m   2509\u001b[0m     \u001b[0;32mif\u001b[0m \u001b[0misarray\u001b[0m\u001b[0;34m:\u001b[0m\u001b[0;34m\u001b[0m\u001b[0;34m\u001b[0m\u001b[0m\n\u001b[0;32m-> 2510\u001b[0;31m         \u001b[0mnr\u001b[0m\u001b[0;34m,\u001b[0m \u001b[0mnc\u001b[0m \u001b[0;34m=\u001b[0m \u001b[0marg\u001b[0m\u001b[0;34m.\u001b[0m\u001b[0mshape\u001b[0m\u001b[0;34m[\u001b[0m\u001b[0;34m:\u001b[0m\u001b[0;36m2\u001b[0m\u001b[0;34m]\u001b[0m\u001b[0;34m\u001b[0m\u001b[0;34m\u001b[0m\u001b[0m\n\u001b[0m\u001b[1;32m   2511\u001b[0m         \u001b[0marr_ratio\u001b[0m \u001b[0;34m=\u001b[0m \u001b[0mnr\u001b[0m \u001b[0;34m/\u001b[0m \u001b[0mnc\u001b[0m\u001b[0;34m\u001b[0m\u001b[0;34m\u001b[0m\u001b[0m\n\u001b[1;32m   2512\u001b[0m     \u001b[0;32melse\u001b[0m\u001b[0;34m:\u001b[0m\u001b[0;34m\u001b[0m\u001b[0;34m\u001b[0m\u001b[0m\n",
      "\u001b[0;31mValueError\u001b[0m: not enough values to unpack (expected 2, got 0)"
     ]
    },
    {
     "data": {
      "text/plain": [
       "<Figure size 1800x1200 with 0 Axes>"
      ]
     },
     "metadata": {},
     "output_type": "display_data"
    }
   ],
   "source": [
    "meanatt = np.sum(attimgs, axis=0)\n",
    "print(meanatt.shape)\n",
    "\n",
    "plt.figure(dpi=300)\n",
    "plt.matshow(meanatt)\n",
    "plt.colorbar()"
   ]
  },
  {
   "cell_type": "code",
   "execution_count": null,
   "metadata": {},
   "outputs": [],
   "source": []
  }
 ],
 "metadata": {
  "kernelspec": {
   "display_name": "Python 3",
   "language": "python",
   "name": "python3"
  },
  "language_info": {
   "codemirror_mode": {
    "name": "ipython",
    "version": 3
   },
   "file_extension": ".py",
   "mimetype": "text/x-python",
   "name": "python",
   "nbconvert_exporter": "python",
   "pygments_lexer": "ipython3",
   "version": "3.7.0"
  }
 },
 "nbformat": 4,
 "nbformat_minor": 2
}
