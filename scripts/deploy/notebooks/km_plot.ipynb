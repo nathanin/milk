{
 "cells": [
  {
   "cell_type": "markdown",
   "metadata": {},
   "source": [
    "## https://lifelines.readthedocs.io/en/latest/Quickstart.html#getting-data-in-the-right-format"
   ]
  },
  {
   "cell_type": "code",
   "execution_count": 1,
   "metadata": {},
   "outputs": [
    {
     "data": {
      "text/plain": [
       "'/home/ing/miniconda3/envs/milk/bin/python'"
      ]
     },
     "execution_count": 1,
     "metadata": {},
     "output_type": "execute_result"
    }
   ],
   "source": [
    "import sys\n",
    "sys.executable"
   ]
  },
  {
   "cell_type": "code",
   "execution_count": 2,
   "metadata": {},
   "outputs": [],
   "source": [
    "import pandas as pd\n",
    "import lifelines\n",
    "import pickle\n",
    "\n",
    "%matplotlib inline\n",
    "import seaborn as sns\n",
    "import matplotlib.pyplot as plt"
   ]
  },
  {
   "cell_type": "code",
   "execution_count": 3,
   "metadata": {
    "scrolled": true
   },
   "outputs": [
    {
     "name": "stdout",
     "output_type": "stream",
     "text": [
      "42\n",
      "TCGA-KK-A6DY 1\n",
      "TCGA-YL-A8S8 0\n",
      "TCGA-V1-A9Z7 1\n",
      "TCGA-G9-6496 0\n",
      "TCGA-HC-8260 1\n",
      "TCGA-EJ-7123 0\n",
      "TCGA-G9-7521 1\n",
      "TCGA-X4-A8KQ 1\n",
      "TCGA-YL-A8SH 1\n",
      "TCGA-HC-A9TE 1\n",
      "TCGA-HC-8262 1\n",
      "TCGA-J4-A67T 0\n",
      "TCGA-V1-A8WN 0\n",
      "TCGA-YL-A9WI 0\n",
      "TCGA-V1-A8MU 0\n",
      "TCGA-YL-A9WI 0\n",
      "TCGA-HC-7232 0\n",
      "TCGA-QU-A6IN 0\n",
      "TCGA-YL-A8SP 1\n",
      "TCGA-Y6-A8TL 1\n",
      "TCGA-CH-5754 0\n",
      "TCGA-V1-A8X3 0\n",
      "TCGA-EJ-7789 1\n",
      "TCGA-EJ-A46E 0\n",
      "TCGA-J4-A67K 0\n",
      "TCGA-G9-6343 1\n",
      "TCGA-G9-6494 0\n",
      "TCGA-EJ-A46B 0\n",
      "TCGA-EJ-A46G 0\n",
      "TCGA-MG-AAMC 0\n",
      "TCGA-HI-7169 1\n",
      "TCGA-HC-7077 0\n",
      "TCGA-QU-A6IL 0\n",
      "TCGA-FC-7708 0\n",
      "TCGA-EJ-5504 1\n",
      "TCGA-V1-A9O5 1\n",
      "TCGA-VP-A87E 1\n",
      "TCGA-KK-A59Y 0\n",
      "TCGA-KK-A7B3 1\n",
      "TCGA-2A-A8W1 0\n",
      "TCGA-YL-A8SB 1\n",
      "TCGA-G9-6379 0\n"
     ]
    }
   ],
   "source": [
    "import os\n",
    "import numpy as np\n",
    "import glob\n",
    "predicted_sets = glob.glob('../tcga-prad/2019_01_23_22_21_15/*_ypred.npy')\n",
    "print(len(predicted_sets))\n",
    "ypred = {}\n",
    "for pth in predicted_sets:\n",
    "    c = os.path.basename(pth)[:12]\n",
    "    y = np.squeeze(np.argmax(np.load(pth), -1))\n",
    "    print(c,y)\n",
    "    ypred[c] = y\n",
    "    "
   ]
  },
  {
   "cell_type": "code",
   "execution_count": 4,
   "metadata": {},
   "outputs": [
    {
     "name": "stdout",
     "output_type": "stream",
     "text": [
      "427\n"
     ]
    }
   ],
   "source": [
    "# translate the pickled data:\n",
    "days_to_biochem_recurr = pickle.load(open('../prad_days_to_biochemical_recurrence.pkl', 'rb'))\n",
    "print(len(days_to_biochem_recurr.keys()))"
   ]
  },
  {
   "cell_type": "code",
   "execution_count": 5,
   "metadata": {},
   "outputs": [
    {
     "name": "stdout",
     "output_type": "stream",
     "text": [
      "22\n",
      "16\n"
     ]
    },
    {
     "data": {
      "image/png": "[encoded data removed]",
      "text/plain": [
       "<Figure size 432x288 with 1 Axes>"
      ]
     },
     "metadata": {
      "needs_background": "light"
     },
     "output_type": "display_data"
    }
   ],
   "source": [
    "T_0, E_0 = [], []\n",
    "T_1, E_1 = [], []\n",
    "T, E = [], []\n",
    "for k, v in days_to_biochem_recurr.items():\n",
    "    if k in ypred.keys():\n",
    "        if ypred[k] == 0:\n",
    "            T_0.append(v[0] / 365)\n",
    "            E_0.append(v[1])\n",
    "        else:\n",
    "            T_1.append(v[0] / 365)\n",
    "            E_1.append(v[1])\n",
    "    else:\n",
    "        T.append(v[0] / 365)\n",
    "        E.append(v[1])\n",
    "            \n",
    "print(len(T_0))\n",
    "print(len(T_1))\n",
    "kmf = lifelines.KaplanMeierFitter()\n",
    "kmf.fit(T_0, E_0, label='0')\n",
    "ax = kmf.plot(show_censors=True)\n",
    "kmf.fit(T_1, E_1, label='1')\n",
    "ax = kmf.plot(show_censors=True, ax=ax)\n",
    "kmf.fit(T, E, label='Other')\n",
    "ax = kmf.plot(show_censors=True, ax=ax)\n",
    "ax.set_title('Time to biochemical recurrance', fontsize=16)\n",
    "plt.savefig('prad_km_time_to_biochem_recurrance.png', bbox_inches='tight')\n",
    "# plt.legend(fontsize=14)"
   ]
  },
  {
   "cell_type": "code",
   "execution_count": 6,
   "metadata": {},
   "outputs": [
    {
     "name": "stdout",
     "output_type": "stream",
     "text": [
      "<lifelines.StatisticalResult>\n",
      "               t_0 = -1\n",
      " null_distribution = chi squared\n",
      "degrees_of_freedom = 1\n",
      "\n",
      "---\n",
      "test_statistic    p  -log2(p)\n",
      "          0.64 0.42      1.24\n",
      "0.42238858564521853\n",
      "0.6436599215709053\n",
      "------------------------------------------------------------\n",
      "<lifelines.StatisticalResult>\n",
      " null_distribution = chi squared\n",
      "degrees_of_freedom = 1\n",
      "     point_in_time = 5\n",
      "\n",
      "---\n",
      "test_statistic    p  -log2(p)\n",
      "          0.23 0.63      0.66\n"
     ]
    }
   ],
   "source": [
    "result = lifelines.statistics.logrank_test(T_0, T_1, event_observed_A=E_0, event_observed_B=E_1)\n",
    "result.print_summary()\n",
    "print(result.p_value)\n",
    "print(result.test_statistic)\n",
    "print('------------------------------------------------------------')\n",
    "\n",
    "result = lifelines.statistics.survival_difference_at_fixed_point_in_time_test(5, durations_A=T_0, durations_B=T_1,\n",
    "    event_observed_A=E_0, event_observed_B=E_1)\n",
    "result.print_summary()"
   ]
  },
  {
   "cell_type": "code",
   "execution_count": 7,
   "metadata": {},
   "outputs": [],
   "source": [
    "days_to_new_tumor = pickle.load(open('../prad_days_to_new_tumor_event.pkl', 'rb'))"
   ]
  },
  {
   "cell_type": "code",
   "execution_count": 8,
   "metadata": {},
   "outputs": [
    {
     "data": {
      "image/png": "[encoded data removed]",
      "text/plain": [
       "<Figure size 432x288 with 1 Axes>"
      ]
     },
     "metadata": {
      "needs_background": "light"
     },
     "output_type": "display_data"
    }
   ],
   "source": [
    "T_0, E_0 = [], []\n",
    "T_1, E_1 = [], []\n",
    "T, E = [], []\n",
    "for k, v in days_to_new_tumor.items():\n",
    "    if k in ypred.keys():\n",
    "        if ypred[k] == 0:\n",
    "            T_0.append(v[0] / 365)\n",
    "            E_0.append(v[1])\n",
    "        else:\n",
    "            T_1.append(v[0] / 365)\n",
    "            E_1.append(v[1])\n",
    "    else:\n",
    "        T.append(v[0] / 365)\n",
    "        E.append(v[1])\n",
    "            \n",
    "kmf = lifelines.KaplanMeierFitter()\n",
    "kmf.fit(T_0, E_0, label='0')\n",
    "ax = kmf.plot(show_censors=True)\n",
    "kmf.fit(T_1, E_1, label='1')\n",
    "ax = kmf.plot(show_censors=True, ax=ax)\n",
    "kmf.fit(T, E, label='Others')\n",
    "ax = kmf.plot(show_censors=True, ax=ax)"
   ]
  },
  {
   "cell_type": "code",
   "execution_count": 9,
   "metadata": {},
   "outputs": [
    {
     "name": "stdout",
     "output_type": "stream",
     "text": [
      "<lifelines.StatisticalResult>\n",
      "               t_0 = -1\n",
      " null_distribution = chi squared\n",
      "degrees_of_freedom = 1\n",
      "\n",
      "---\n",
      "test_statistic    p  -log2(p)\n",
      "          0.87 0.35      1.51\n",
      "0.3510336381191045\n",
      "0.8697171039560739\n",
      "------------------------------------------------------------\n",
      "<lifelines.StatisticalResult>\n",
      " null_distribution = chi squared\n",
      "degrees_of_freedom = 1\n",
      "     point_in_time = 5\n",
      "\n",
      "---\n",
      "test_statistic    p  -log2(p)\n",
      "          0.56 0.46      1.13\n"
     ]
    }
   ],
   "source": [
    "result = lifelines.statistics.logrank_test(T_0, T_1, event_observed_A=E_0, event_observed_B=E_1)\n",
    "result.print_summary()\n",
    "print(result.p_value)\n",
    "print(result.test_statistic)\n",
    "print('------------------------------------------------------------')\n",
    "\n",
    "result = lifelines.statistics.survival_difference_at_fixed_point_in_time_test(5, durations_A=T_0, durations_B=T_1,\n",
    "    event_observed_A=E_0, event_observed_B=E_1)\n",
    "result.print_summary()"
   ]
  },
  {
   "cell_type": "code",
   "execution_count": null,
   "metadata": {},
   "outputs": [],
   "source": []
  }
 ],
 "metadata": {
  "kernelspec": {
   "display_name": "Python 3",
   "language": "python",
   "name": "python3"
  },
  "language_info": {
   "codemirror_mode": {
    "name": "ipython",
    "version": 3
   },
   "file_extension": ".py",
   "mimetype": "text/x-python",
   "name": "python",
   "nbconvert_exporter": "python",
   "pygments_lexer": "ipython3",
   "version": "3.6.7"
  }
 },
 "nbformat": 4,
 "nbformat_minor": 2
}
