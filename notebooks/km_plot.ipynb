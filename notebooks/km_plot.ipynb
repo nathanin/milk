{
 "cells": [
  {
   "cell_type": "markdown",
   "metadata": {},
   "source": [
    "## https://lifelines.readthedocs.io/en/latest/Quickstart.html#getting-data-in-the-right-format"
   ]
  },
  {
   "cell_type": "code",
   "execution_count": 1,
   "metadata": {},
   "outputs": [],
   "source": [
    "import sys\n",
    "sys.executable"
   ]
  },
  {
   "cell_type": "code",
   "execution_count": 2,
   "metadata": {},
   "outputs": [],
   "source": [
    "import pandas as pd\n",
    "import lifelines\n",
    "import pickle\n",
    "\n",
    "%matplotlib inline\n",
    "import seaborn as sns\n",
    "import matplotlib.pyplot as plt"
   ]
  },
  {
   "cell_type": "code",
   "execution_count": 3,
   "metadata": {},
   "outputs": [],
   "source": [
    "gleason_sum = pickle.load(open('../prad_gleason_sum.pkl', 'rb'))\n",
    "positive_lymphnodes = pickle.load(open('../prad_positive_lymphnodes.pkl', 'rb'))\n",
    "at_least_one_lymphnode = {k: x > 0 for k, x in positive_lymphnodes.items()}"
   ]
  },
  {
   "cell_type": "code",
   "execution_count": 4,
   "metadata": {},
   "outputs": [
    {
     "name": "stdout",
     "output_type": "stream",
     "text": [
      "408\n"
     ]
    },
    {
     "data": {
      "text/plain": [
       "(array([328.,  45.,  13.,   0.,  11.,   2.,   2.,   0.,   3.,   1.,   1.,\n",
       "          0.,   0.,   0.,   1.,   0.,   0.,   0.,   0.,   1.]),\n",
       " array([ 0.  ,  0.75,  1.5 ,  2.25,  3.  ,  3.75,  4.5 ,  5.25,  6.  ,\n",
       "         6.75,  7.5 ,  8.25,  9.  ,  9.75, 10.5 , 11.25, 12.  , 12.75,\n",
       "        13.5 , 14.25, 15.  ]),\n",
       " <a list of 20 Patch objects>)"
      ]
     },
     "execution_count": 4,
     "metadata": {},
     "output_type": "execute_result"
    },
    {
     "data": {
      "image/png": "[encoded data removed]",
      "text/plain": [
       "<Figure size 432x288 with 1 Axes>"
      ]
     },
     "metadata": {
      "needs_background": "light"
     },
     "output_type": "display_data"
    }
   ],
   "source": [
    "plymphs = [x for k,x in positive_lymphnodes.items()]\n",
    "print(len(plymphs))\n",
    "plt.hist(plymphs, bins=20)"
   ]
  },
  {
   "cell_type": "code",
   "execution_count": 5,
   "metadata": {},
   "outputs": [
    {
     "name": "stdout",
     "output_type": "stream",
     "text": [
      "499\n"
     ]
    },
    {
     "data": {
      "text/plain": [
       "(array([ 45.,   0., 249.,   0.,   0.,  64.,   0., 137.,   0.,   4.]),\n",
       " array([ 6. ,  6.4,  6.8,  7.2,  7.6,  8. ,  8.4,  8.8,  9.2,  9.6, 10. ]),\n",
       " <a list of 10 Patch objects>)"
      ]
     },
     "execution_count": 5,
     "metadata": {},
     "output_type": "execute_result"
    },
    {
     "data": {
      "image/png": "[encoded data removed]",
      "text/plain": [
       "<Figure size 432x288 with 1 Axes>"
      ]
     },
     "metadata": {
      "needs_background": "light"
     },
     "output_type": "display_data"
    }
   ],
   "source": [
    "grades = [x for k,x in gleason_sum.items()]\n",
    "print(len(grades))\n",
    "plt.hist(grades)"
   ]
  },
  {
   "cell_type": "code",
   "execution_count": 6,
   "metadata": {},
   "outputs": [
    {
     "name": "stdout",
     "output_type": "stream",
     "text": [
      "              GleasonSum  LymphNodes\n",
      "TCGA-CH-5753           9           3\n",
      "TCGA-CH-5763           7           0\n",
      "TCGA-CH-5764           7           0\n",
      "TCGA-CH-5772           9           0\n",
      "TCGA-CH-5790           7           0\n",
      "(408, 2)\n"
     ]
    },
    {
     "name": "stderr",
     "output_type": "stream",
     "text": [
      "/home/ing/miniconda3/envs/milk/lib/python3.6/site-packages/scipy/stats/stats.py:1713: FutureWarning: Using a non-tuple sequence for multidimensional indexing is deprecated; use `arr[tuple(seq)]` instead of `arr[seq]`. In the future this will be interpreted as an array index, `arr[np.array(seq)]`, which will result either in an error or a different result.\n",
      "  return np.add.reduce(sorted[indexer] * weights, axis=axis) / sumval\n"
     ]
    },
    {
     "data": {
      "text/plain": [
       "<matplotlib.axes._subplots.AxesSubplot at 0x7fdd3de24da0>"
      ]
     },
     "execution_count": 6,
     "metadata": {},
     "output_type": "execute_result"
    },
    {
     "data": {
      "image/png": "[encoded data removed]",
      "text/plain": [
       "<Figure size 432x288 with 1 Axes>"
      ]
     },
     "metadata": {
      "needs_background": "light"
     },
     "output_type": "display_data"
    }
   ],
   "source": [
    "keys = [k for k in positive_lymphnodes]\n",
    "nlymphs = [positive_lymphnodes[k] for k in positive_lymphnodes]\n",
    "df_ln = pd.DataFrame({'LymphNodes': nlymphs}, index=keys)\n",
    "\n",
    "keys = [k for k in gleason_sum]\n",
    "grades = [gleason_sum[k] for k in gleason_sum]\n",
    "df_gs = pd.DataFrame({'GleasonSum': grades}, index=keys)\n",
    "\n",
    "df = pd.concat([df_gs, df_ln], join='inner', axis=1)\n",
    "print(df.head())\n",
    "print(df.shape)\n",
    "\n",
    "sns.violinplot(x='GleasonSum', y='LymphNodes', data=df, cut=0, width=0.8, scale='width')"
   ]
  },
  {
   "cell_type": "code",
   "execution_count": 7,
   "metadata": {
    "scrolled": true
   },
   "outputs": [
    {
     "name": "stdout",
     "output_type": "stream",
     "text": [
      "255\n"
     ]
    }
   ],
   "source": [
    "import os\n",
    "import numpy as np\n",
    "import glob\n",
    "predicted_sets = glob.glob('../tcga-prad-avg/*_ypred.npy')\n",
    "print(len(predicted_sets))\n",
    "ypred = {}\n",
    "for pth in predicted_sets:\n",
    "    c = os.path.basename(pth)[:12]\n",
    "    y = np.squeeze(np.argmax(np.load(pth), -1))\n",
    "    ypred[c] = y"
   ]
  },
  {
   "cell_type": "code",
   "execution_count": 8,
   "metadata": {},
   "outputs": [
    {
     "name": "stdout",
     "output_type": "stream",
     "text": [
      "427\n"
     ]
    }
   ],
   "source": [
    "# translate the pickled data:\n",
    "days_to_biochem_recurr = pickle.load(open('../prad_days_to_biochemical_recurrence.pkl', 'rb'))\n",
    "print(len(days_to_biochem_recurr.keys()))"
   ]
  },
  {
   "cell_type": "code",
   "execution_count": 22,
   "metadata": {},
   "outputs": [
    {
     "name": "stdout",
     "output_type": "stream",
     "text": [
      "158\n",
      "26\n"
     ]
    },
    {
     "data": {
      "image/png": "[encoded data removed]",
      "text/plain": [
       "<Figure size 432x288 with 1 Axes>"
      ]
     },
     "metadata": {
      "needs_background": "light"
     },
     "output_type": "display_data"
    }
   ],
   "source": [
    "T_0, E_0 = [], []\n",
    "T_1, E_1 = [], []\n",
    "T, E = [], []\n",
    "for k, v in days_to_biochem_recurr.items():\n",
    "#     print(k, gleason_sum[k])\n",
    "    if gleason_sum[k] < 7:\n",
    "        continue\n",
    "        \n",
    "    if k in ypred.keys():\n",
    "        if ypred[k] == 0:\n",
    "            T_0.append(v[0] / 365)\n",
    "            E_0.append(v[1])\n",
    "        else:\n",
    "            T_1.append(v[0] / 365)\n",
    "            E_1.append(v[1])\n",
    "    else:\n",
    "        T.append(v[0] / 365)\n",
    "        E.append(v[1])\n",
    "            \n",
    "print(len(T_0))\n",
    "print(len(T_1))\n",
    "kmf = lifelines.KaplanMeierFitter()\n",
    "kmf.fit(T_0, E_0, label='0')\n",
    "ax = kmf.plot(show_censors=True)\n",
    "kmf.fit(T_1, E_1, label='1')\n",
    "ax = kmf.plot(show_censors=True, ax=ax)\n",
    "kmf.fit(T, E, label='Other')\n",
    "ax = kmf.plot(show_censors=True, ax=ax)\n",
    "ax.set_title('Time to biochemical recurrance', fontsize=16)\n",
    "plt.savefig('prad_km_time_to_biochem_recurrance.png', bbox_inches='tight')\n",
    "# plt.legend(fontsize=14)"
   ]
  },
  {
   "cell_type": "code",
   "execution_count": 23,
   "metadata": {},
   "outputs": [
    {
     "name": "stdout",
     "output_type": "stream",
     "text": [
      "<lifelines.StatisticalResult>\n",
      "               t_0 = -1\n",
      " null_distribution = chi squared\n",
      "degrees_of_freedom = 1\n",
      "\n",
      "---\n",
      "test_statistic    p  -log2(p)\n",
      "          1.10 0.30      1.76\n",
      "0.29504835460832407\n",
      "1.0964415913796666\n",
      "------------------------------------------------------------\n",
      "<lifelines.StatisticalResult>\n",
      " null_distribution = chi squared\n",
      "degrees_of_freedom = 1\n",
      "     point_in_time = 5\n",
      "\n",
      "---\n",
      "test_statistic    p  -log2(p)\n",
      "          0.76 0.38      1.39\n"
     ]
    }
   ],
   "source": [
    "result = lifelines.statistics.logrank_test(T_0, T_1, event_observed_A=E_0, event_observed_B=E_1)\n",
    "result.print_summary()\n",
    "print(result.p_value)\n",
    "print(result.test_statistic)\n",
    "print('------------------------------------------------------------')\n",
    "\n",
    "result = lifelines.statistics.survival_difference_at_fixed_point_in_time_test(5, durations_A=T_0, durations_B=T_1,\n",
    "    event_observed_A=E_0, event_observed_B=E_1)\n",
    "result.print_summary()"
   ]
  },
  {
   "cell_type": "code",
   "execution_count": 11,
   "metadata": {},
   "outputs": [],
   "source": [
    "days_to_new_tumor = pickle.load(open('../prad_days_to_new_tumor_event.pkl', 'rb'))"
   ]
  },
  {
   "cell_type": "code",
   "execution_count": 24,
   "metadata": {},
   "outputs": [
    {
     "data": {
      "image/png": "[encoded data removed]",
      "text/plain": [
       "<Figure size 432x288 with 1 Axes>"
      ]
     },
     "metadata": {
      "needs_background": "light"
     },
     "output_type": "display_data"
    }
   ],
   "source": [
    "T_0, E_0 = [], []\n",
    "T_1, E_1 = [], []\n",
    "T, E = [], []\n",
    "for k, v in days_to_new_tumor.items():\n",
    "    if gleason_sum[k] < 7:\n",
    "        continue\n",
    "        \n",
    "    if k in ypred.keys():\n",
    "        if ypred[k] == 0:\n",
    "            T_0.append(v[0] / 365)\n",
    "            E_0.append(v[1])\n",
    "        else:\n",
    "            T_1.append(v[0] / 365)\n",
    "            E_1.append(v[1])\n",
    "    else:\n",
    "        T.append(v[0] / 365)\n",
    "        E.append(v[1])\n",
    "            \n",
    "kmf = lifelines.KaplanMeierFitter()\n",
    "kmf.fit(T_0, E_0, label='0')\n",
    "ax = kmf.plot(show_censors=True)\n",
    "kmf.fit(T_1, E_1, label='1')\n",
    "ax = kmf.plot(show_censors=True, ax=ax)\n",
    "kmf.fit(T, E, label='Others')\n",
    "ax = kmf.plot(show_censors=True, ax=ax)"
   ]
  },
  {
   "cell_type": "code",
   "execution_count": 25,
   "metadata": {},
   "outputs": [
    {
     "name": "stdout",
     "output_type": "stream",
     "text": [
      "<lifelines.StatisticalResult>\n",
      "               t_0 = -1\n",
      " null_distribution = chi squared\n",
      "degrees_of_freedom = 1\n",
      "\n",
      "---\n",
      "test_statistic    p  -log2(p)\n",
      "          0.25 0.62      0.69\n",
      "0.6193394684920392\n",
      "0.24679703467094696\n",
      "------------------------------------------------------------\n",
      "<lifelines.StatisticalResult>\n",
      " null_distribution = chi squared\n",
      "degrees_of_freedom = 1\n",
      "     point_in_time = 5\n",
      "\n",
      "---\n",
      "test_statistic    p  -log2(p)\n",
      "          0.21 0.64      0.64\n"
     ]
    }
   ],
   "source": [
    "result = lifelines.statistics.logrank_test(T_0, T_1, event_observed_A=E_0, event_observed_B=E_1)\n",
    "result.print_summary()\n",
    "print(result.p_value)\n",
    "print(result.test_statistic)\n",
    "print('------------------------------------------------------------')\n",
    "\n",
    "result = lifelines.statistics.survival_difference_at_fixed_point_in_time_test(5, durations_A=T_0, durations_B=T_1,\n",
    "    event_observed_A=E_0, event_observed_B=E_1)\n",
    "result.print_summary()"
   ]
  },
  {
   "cell_type": "code",
   "execution_count": 14,
   "metadata": {},
   "outputs": [
    {
     "name": "stdout",
     "output_type": "stream",
     "text": [
      "TCGA-HC-7741 1\n"
     ]
    }
   ],
   "source": [
    "gg = {0: [0,0,0,0,0], 1: [0,0,0,0,0]}\n",
    "for k, y in ypred.items():\n",
    "    try:\n",
    "        g = gleason_sum[k]-6\n",
    "        gg[int(y)][g] +=1\n",
    "    except:\n",
    "        print(k,y)"
   ]
  },
  {
   "cell_type": "code",
   "execution_count": 15,
   "metadata": {},
   "outputs": [
    {
     "data": {
      "text/plain": [
       "<BarContainer object of 2 artists>"
      ]
     },
     "execution_count": 15,
     "metadata": {},
     "output_type": "execute_result"
    },
    {
     "data": {
      "image/png": "[encoded data removed]",
      "text/plain": [
       "<Figure size 432x288 with 1 Axes>"
      ]
     },
     "metadata": {
      "needs_background": "light"
     },
     "output_type": "display_data"
    }
   ],
   "source": [
    "barWidth = 0.5\n",
    "gs6 = [gg[0][0], gg[1][0]]\n",
    "gs7 = [gg[0][1], gg[1][1]]\n",
    "gs8 = [gg[0][2], gg[1][2]]\n",
    "gs9 = [gg[0][3], gg[1][3]]\n",
    "gs10 = [gg[0][4], gg[1][4]]\n",
    "\n",
    "r = [0,1]\n",
    "\n",
    "plt.bar(r, gs6, edgecolor='white', width=barWidth)\n",
    "plt.bar(r, gs7, bottom=gs6, edgecolor='white', width=barWidth)\n",
    "plt.bar(r, gs8,  bottom=np.sum([gs6, gs7], axis=0), edgecolor='white', width=barWidth)\n",
    "plt.bar(r, gs9,  bottom=np.sum([gs6, gs7, gs8], axis=0), edgecolor='white', width=barWidth)\n",
    "plt.bar(r, gs10, bottom=np.sum([gs6, gs7, gs8, gs9], axis=0), edgecolor='white', width=barWidth)\n"
   ]
  },
  {
   "cell_type": "code",
   "execution_count": 16,
   "metadata": {},
   "outputs": [
    {
     "name": "stdout",
     "output_type": "stream",
     "text": [
      "ypred\n",
      " [1 1 0 0 0 1 1 0 0 0 0 0 0 0 1 0 0 1 0 0 0 0 0 0 1 0 0 0 1 0 0 0 0 0 0 0 0\n",
      " 0 0 0 1 0 0 1 0 0 0 0 0 0 0 0 0 0 0 0 1 0 0 0 0 0 0 0 0 0 0 0 0 1 0 0 1 1\n",
      " 0 0 0 0 0 0 1 0 0 0 0 0 0 0 0 0 0 0 0 0 0 0 0 0 1 0 0 0 0 0 0 0 1 0 0 0 0\n",
      " 0 0 0 0 0 0 0 0 0 0 0 0 0 0 0 0 0 0 0 0 1 0 0 0 0 0 0 0 1 0 0 1 0 0 0 1 0\n",
      " 0 0 0 0 0 1 0 0 1 0 0 0 0 0 0 0 0 0 0 0 0 0 0 1 0 0 0 0 0 0]\n",
      "at least one positive LN:\n",
      " [1 0 0 0 1 1 1 0 0 0 0 0 1 0 0 0 0 1 1 0 0 0 0 0 0 0 0 1 0 1 0 0 0 1 0 0 0\n",
      " 0 0 0 1 1 0 1 1 1 0 1 1 0 0 1 0 1 0 0 1 0 0 0 0 1 0 0 0 0 1 0 0 1 0 1 0 0\n",
      " 0 0 0 0 1 0 1 0 0 0 0 0 0 1 0 0 0 0 0 0 1 0 0 0 0 0 0 0 0 0 1 0 1 0 0 0 0\n",
      " 0 0 0 0 0 0 0 0 0 0 0 0 0 0 1 0 0 0 0 0 0 0 0 1 0 0 1 0 0 0 1 0 0 1 0 1 1\n",
      " 0 0 0 0 0 0 1 0 0 0 0 0 1 0 0 0 1 0 0 0 0 0 0 0 0 0 1 0 0 0]\n",
      "0.7584269662921348\n"
     ]
    }
   ],
   "source": [
    "ypred_vect = []\n",
    "pos_ln = []\n",
    "for k in ypred:\n",
    "    try:\n",
    "        if gleason_sum[k] < 7:\n",
    "            continue\n",
    "        pos_ln.append(at_least_one_lymphnode[k])\n",
    "        ypred_vect.append(ypred[k])\n",
    "    except:\n",
    "        continue\n",
    "        \n",
    "ypred_vect = np.array(ypred_vect).astype(np.uint8)\n",
    "pos_ln = np.array(pos_ln).astype(np.uint8)\n",
    "print('ypred\\n', ypred_vect)\n",
    "print('at least one positive LN:\\n', pos_ln)\n",
    "\n",
    "print((ypred_vect == pos_ln).mean())"
   ]
  },
  {
   "cell_type": "code",
   "execution_count": 17,
   "metadata": {},
   "outputs": [
    {
     "name": "stdout",
     "output_type": "stream",
     "text": [
      "44\n",
      "212\n"
     ]
    },
    {
     "data": {
      "image/png": "[encoded data removed]",
      "text/plain": [
       "<Figure size 432x288 with 1 Axes>"
      ]
     },
     "metadata": {
      "needs_background": "light"
     },
     "output_type": "display_data"
    }
   ],
   "source": [
    "T_0, E_0 = [], []\n",
    "T_1, E_1 = [], []\n",
    "T_2, E_2 = [], []\n",
    "T_3, E_3 = [], []\n",
    "T_4, E_4 = [], []\n",
    "for k, v in days_to_biochem_recurr.items():\n",
    "#     print(k, gleason_sum[k])\n",
    "#     if gleason_sum[k] < 8:\n",
    "#         continue\n",
    "        \n",
    "    if k in gleason_sum.keys():\n",
    "        if gleason_sum[k] == 6:\n",
    "            T_0.append(v[0] / 365)\n",
    "            E_0.append(v[1])\n",
    "        elif gleason_sum[k] == 7:\n",
    "            T_1.append(v[0] / 365)\n",
    "            E_1.append(v[1])\n",
    "        elif gleason_sum[k] == 8:\n",
    "            T_2.append(v[0] / 365)\n",
    "            E_2.append(v[1])\n",
    "        elif gleason_sum[k] == 9:\n",
    "            T_3.append(v[0] / 365)\n",
    "            E_3.append(v[1])\n",
    "        elif gleason_sum[k] == 10:\n",
    "            T_4.append(v[0] / 365)\n",
    "            E_4.append(v[1])\n",
    "    else:\n",
    "        print(k)\n",
    "            \n",
    "print(len(T_0))\n",
    "print(len(T_1))\n",
    "kmf = lifelines.KaplanMeierFitter()\n",
    "kmf.fit(T_0, E_0, label='6')\n",
    "ax = kmf.plot(show_censors=True)\n",
    "\n",
    "kmf.fit(T_1, E_1, label='7')\n",
    "ax = kmf.plot(show_censors=True, ax=ax)\n",
    "\n",
    "kmf.fit(T_2, E_2, label='8')\n",
    "ax = kmf.plot(show_censors=True, ax=ax)\n",
    "\n",
    "kmf.fit(T_3, E_3, label='9')\n",
    "ax = kmf.plot(show_censors=True, ax=ax)\n",
    "\n",
    "kmf.fit(T_4, E_4, label='10')\n",
    "ax = kmf.plot(show_censors=True, ax=ax)\n",
    "\n",
    "ax.set_title('Time to biochemical recurrance', fontsize=16)\n",
    "plt.savefig('prad_km_time_to_biochem_recurrance.png', bbox_inches='tight')\n",
    "# plt.legend(fontsize=14)"
   ]
  },
  {
   "cell_type": "code",
   "execution_count": null,
   "metadata": {},
   "outputs": [],
   "source": []
  }
 ],
 "metadata": {
  "kernelspec": {
   "display_name": "Python 3",
   "language": "python",
   "name": "python3"
  },
  "language_info": {
   "codemirror_mode": {
    "name": "ipython",
    "version": 3
   },
   "file_extension": ".py",
   "mimetype": "text/x-python",
   "name": "python",
   "nbconvert_exporter": "python",
   "pygments_lexer": "ipython3",
   "version": "3.6.7"
  }
 },
 "nbformat": 4,
 "nbformat_minor": 2
}
