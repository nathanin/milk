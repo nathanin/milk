{
 "cells": [
  {
   "cell_type": "markdown",
   "metadata": {},
   "source": [
    "## https://lifelines.readthedocs.io/en/latest/Quickstart.html#getting-data-in-the-right-format"
   ]
  },
  {
   "cell_type": "code",
   "execution_count": 1,
   "metadata": {},
   "outputs": [
    {
     "data": {
      "text/plain": [
       "'/home/ing/miniconda3/envs/milk/bin/python'"
      ]
     },
     "execution_count": 1,
     "metadata": {},
     "output_type": "execute_result"
    }
   ],
   "source": [
    "import sys\n",
    "sys.executable"
   ]
  },
  {
   "cell_type": "code",
   "execution_count": 2,
   "metadata": {},
   "outputs": [],
   "source": [
    "import pandas as pd\n",
    "import lifelines\n",
    "import pickle\n",
    "\n",
    "%matplotlib inline\n",
    "import seaborn as sns\n",
    "import matplotlib.pyplot as plt"
   ]
  },
  {
   "cell_type": "code",
   "execution_count": 3,
   "metadata": {
    "scrolled": true
   },
   "outputs": [
    {
     "name": "stdout",
     "output_type": "stream",
     "text": [
      "181\n",
      "TCGA-XJ-A9DX 1\n",
      "TCGA-EJ-5517 0\n",
      "TCGA-KK-A6DY 0\n",
      "TCGA-YL-A8S8 0\n",
      "TCGA-KK-A6E7 0\n",
      "TCGA-V1-A9Z7 0\n",
      "TCGA-EJ-5511 0\n",
      "TCGA-EJ-5501 0\n",
      "TCGA-G9-6496 0\n",
      "TCGA-HC-8260 0\n",
      "TCGA-YL-A8SK 1\n",
      "TCGA-EJ-7123 0\n",
      "TCGA-G9-6362 0\n",
      "TCGA-KK-A8I9 1\n",
      "TCGA-V1-A9ZG 0\n",
      "TCGA-G9-7521 0\n",
      "TCGA-X4-A8KQ 1\n",
      "TCGA-EJ-A46I 0\n",
      "TCGA-YL-A8SK 1\n",
      "TCGA-YL-A8SH 1\n",
      "TCGA-HC-A4ZV 1\n",
      "TCGA-Y6-A8TL 1\n",
      "TCGA-V1-A9ZI 0\n",
      "TCGA-QU-A6IP 0\n",
      "TCGA-EJ-7315 0\n",
      "TCGA-Y6-A9XI 1\n",
      "TCGA-X4-A8KS 0\n",
      "TCGA-HC-A9TE 1\n",
      "TCGA-HC-8262 1\n",
      "TCGA-KK-A8IM 0\n",
      "TCGA-M7-A720 0\n",
      "TCGA-KK-A5A1 1\n",
      "TCGA-G9-A9S0 0\n",
      "TCGA-FC-A66V 0\n",
      "TCGA-HC-7210 0\n",
      "TCGA-M7-A724 1\n",
      "TCGA-EJ-7785 0\n",
      "TCGA-V1-A8WL 0\n",
      "TCGA-J4-A67T 0\n",
      "TCGA-V1-A8WN 0\n",
      "TCGA-CH-5746 1\n",
      "TCGA-X4-A8KQ 0\n",
      "TCGA-YL-A8SK 0\n",
      "TCGA-YL-A9WI 0\n",
      "TCGA-EJ-5506 0\n",
      "TCGA-V1-A8MU 0\n",
      "TCGA-G9-A9S4 0\n",
      "TCGA-YL-A9WI 0\n",
      "TCGA-HC-7740 0\n",
      "TCGA-HC-A6AS 1\n",
      "TCGA-YL-A8SL 0\n",
      "TCGA-YL-A8SI 0\n",
      "TCGA-X4-A8KS 0\n",
      "TCGA-HC-7737 0\n",
      "TCGA-HC-7232 0\n",
      "TCGA-HC-8216 0\n",
      "TCGA-QU-A6IN 0\n",
      "TCGA-VP-A872 0\n",
      "TCGA-YL-A8SP 1\n",
      "TCGA-V1-A8MF 0\n",
      "TCGA-CH-5769 1\n",
      "TCGA-J4-A67O 0\n",
      "TCGA-2A-A8VT 0\n",
      "TCGA-KK-A7B1 0\n",
      "TCGA-EJ-7328 0\n",
      "TCGA-EJ-5497 0\n",
      "TCGA-J4-A83N 0\n",
      "TCGA-XJ-A9DQ 0\n",
      "TCGA-J4-A83I 0\n",
      "TCGA-EJ-5509 0\n",
      "TCGA-KK-A7AP 0\n",
      "TCGA-HC-8257 1\n",
      "TCGA-YL-A8SR 1\n",
      "TCGA-YL-A8SI 0\n",
      "TCGA-G9-6356 0\n",
      "TCGA-4L-AA1F 1\n",
      "TCGA-HC-A631 1\n",
      "TCGA-YL-A8SL 0\n",
      "TCGA-KK-A7AY 0\n",
      "TCGA-CH-5744 1\n",
      "TCGA-Y6-A8TL 0\n",
      "TCGA-EJ-7791 0\n",
      "TCGA-CH-5745 1\n",
      "TCGA-CH-5754 1\n",
      "TCGA-EJ-7331 0\n",
      "TCGA-V1-A8X3 0\n",
      "TCGA-WW-A8ZI 1\n",
      "TCGA-2A-A8VL 0\n",
      "TCGA-J4-AATV 0\n",
      "TCGA-G9-6336 0\n",
      "TCGA-KK-A7B4 1\n",
      "TCGA-J4-8200 0\n",
      "TCGA-EJ-7789 0\n",
      "TCGA-XK-AAJR 0\n",
      "TCGA-Y6-A9XI 1\n",
      "TCGA-KK-A8IB 1\n",
      "TCGA-KK-A8IG 1\n",
      "TCGA-EJ-A46E 0\n",
      "TCGA-G9-6378 0\n",
      "TCGA-J4-A67Q 0\n",
      "TCGA-YL-A8S9 0\n",
      "TCGA-EJ-5512 0\n",
      "TCGA-J4-A67K 0\n",
      "TCGA-EJ-7782 0\n",
      "TCGA-G9-6343 0\n",
      "TCGA-TK-A8OK 1\n",
      "TCGA-G9-6494 0\n",
      "TCGA-HC-A8D1 0\n",
      "TCGA-J4-8198 0\n",
      "TCGA-X4-A8KQ 0\n",
      "TCGA-EJ-A46B 0\n",
      "TCGA-EJ-5496 0\n",
      "TCGA-J4-A67N 0\n",
      "TCGA-V1-A9OT 0\n",
      "TCGA-G9-6347 0\n",
      "TCGA-V1-A9OL 1\n",
      "TCGA-HC-7745 0\n",
      "TCGA-TP-A8TT 0\n",
      "TCGA-EJ-A46G 0\n",
      "TCGA-MG-AAMC 0\n",
      "TCGA-X4-A8KQ 0\n",
      "TCGA-2A-A8VV 0\n",
      "TCGA-EJ-5503 0\n",
      "TCGA-CH-5738 1\n",
      "TCGA-YL-A8SH 0\n",
      "TCGA-G9-6354 0\n",
      "TCGA-Y6-A9XI 1\n",
      "TCGA-HI-7169 1\n",
      "TCGA-HC-7744 0\n",
      "TCGA-HC-7077 0\n",
      "TCGA-QU-A6IL 0\n",
      "TCGA-Y6-A9XI 1\n",
      "TCGA-X4-A8KQ 0\n",
      "TCGA-CH-5762 1\n",
      "TCGA-YL-A9WH 0\n",
      "TCGA-FC-7708 0\n",
      "TCGA-FC-A5OB 1\n",
      "TCGA-EJ-5504 0\n",
      "TCGA-EJ-5505 0\n",
      "TCGA-HC-8265 1\n",
      "TCGA-G9-6364 0\n",
      "TCGA-V1-A9O5 0\n",
      "TCGA-KK-A8I8 0\n",
      "TCGA-KK-A8IJ 1\n",
      "TCGA-YL-A9WI 0\n",
      "TCGA-EJ-5495 1\n",
      "TCGA-G9-7519 1\n",
      "TCGA-CH-5741 1\n",
      "TCGA-HC-8212 1\n",
      "TCGA-G9-6329 0\n",
      "TCGA-M7-A722 1\n",
      "TCGA-J4-AATZ 0\n",
      "TCGA-G9-6342 0\n",
      "TCGA-VP-A87E 0\n",
      "TCGA-YL-A8SO 1\n",
      "TCGA-KK-A59X 0\n",
      "TCGA-Y6-A9XI 0\n",
      "TCGA-QU-A6IM 1\n",
      "TCGA-V1-A8MK 0\n",
      "TCGA-HC-A6HY 0\n",
      "TCGA-YL-A9WK 0\n",
      "TCGA-SU-A7E7 0\n",
      "TCGA-KK-A59Y 0\n",
      "TCGA-XK-AAJT 1\n",
      "TCGA-XJ-A83G 0\n",
      "TCGA-HC-A632 1\n",
      "TCGA-YL-A9WX 0\n",
      "TCGA-KK-A7B3 0\n",
      "TCGA-EJ-7786 0\n",
      "TCGA-2A-A8W1 0\n",
      "TCGA-HC-7736 0\n",
      "TCGA-EJ-5530 0\n",
      "TCGA-CH-5764 1\n",
      "TCGA-YL-A8SB 0\n",
      "TCGA-HC-7741 1\n",
      "TCGA-J4-A6G3 0\n",
      "TCGA-2A-AAYU 0\n",
      "TCGA-VP-A878 0\n",
      "TCGA-G9-6379 0\n",
      "TCGA-HC-7818 0\n",
      "TCGA-CH-5750 1\n"
     ]
    }
   ],
   "source": [
    "import os\n",
    "import numpy as np\n",
    "import glob\n",
    "predicted_sets = glob.glob('../tcga-prad/2019_02_02_10_49_31/*_ypred.npy')\n",
    "print(len(predicted_sets))\n",
    "ypred = {}\n",
    "for pth in predicted_sets:\n",
    "    c = os.path.basename(pth)[:12]\n",
    "    y = np.squeeze(np.argmax(np.load(pth), -1))\n",
    "    print(c,y)\n",
    "    ypred[c] = y\n",
    "    "
   ]
  },
  {
   "cell_type": "code",
   "execution_count": 4,
   "metadata": {},
   "outputs": [
    {
     "name": "stdout",
     "output_type": "stream",
     "text": [
      "427\n"
     ]
    }
   ],
   "source": [
    "# translate the pickled data:\n",
    "days_to_biochem_recurr = pickle.load(open('../prad_days_to_biochemical_recurrence.pkl', 'rb'))\n",
    "print(len(days_to_biochem_recurr.keys()))"
   ]
  },
  {
   "cell_type": "code",
   "execution_count": 5,
   "metadata": {},
   "outputs": [
    {
     "name": "stdout",
     "output_type": "stream",
     "text": [
      "116\n",
      "28\n"
     ]
    },
    {
     "data": {
      "image/png": "[encoded data removed]",
      "text/plain": [
       "<Figure size 432x288 with 1 Axes>"
      ]
     },
     "metadata": {
      "needs_background": "light"
     },
     "output_type": "display_data"
    }
   ],
   "source": [
    "T_0, E_0 = [], []\n",
    "T_1, E_1 = [], []\n",
    "T, E = [], []\n",
    "for k, v in days_to_biochem_recurr.items():\n",
    "    if k in ypred.keys():\n",
    "        if ypred[k] == 0:\n",
    "            T_0.append(v[0] / 365)\n",
    "            E_0.append(v[1])\n",
    "        else:\n",
    "            T_1.append(v[0] / 365)\n",
    "            E_1.append(v[1])\n",
    "    else:\n",
    "        T.append(v[0] / 365)\n",
    "        E.append(v[1])\n",
    "            \n",
    "print(len(T_0))\n",
    "print(len(T_1))\n",
    "kmf = lifelines.KaplanMeierFitter()\n",
    "kmf.fit(T_0, E_0, label='0')\n",
    "ax = kmf.plot(show_censors=True)\n",
    "kmf.fit(T_1, E_1, label='1')\n",
    "ax = kmf.plot(show_censors=True, ax=ax)\n",
    "kmf.fit(T, E, label='Other')\n",
    "ax = kmf.plot(show_censors=True, ax=ax)\n",
    "ax.set_title('Time to biochemical recurrance', fontsize=16)\n",
    "plt.savefig('prad_km_time_to_biochem_recurrance.png', bbox_inches='tight')\n",
    "# plt.legend(fontsize=14)"
   ]
  },
  {
   "cell_type": "code",
   "execution_count": 6,
   "metadata": {},
   "outputs": [
    {
     "name": "stdout",
     "output_type": "stream",
     "text": [
      "<lifelines.StatisticalResult>\n",
      "               t_0 = -1\n",
      " null_distribution = chi squared\n",
      "degrees_of_freedom = 1\n",
      "\n",
      "---\n",
      "test_statistic    p  -log2(p)\n",
      "          0.03 0.86      0.22\n",
      "0.8608488452802594\n",
      "0.030727888631238598\n",
      "------------------------------------------------------------\n",
      "<lifelines.StatisticalResult>\n",
      " null_distribution = chi squared\n",
      "degrees_of_freedom = 1\n",
      "     point_in_time = 5\n",
      "\n",
      "---\n",
      "test_statistic    p  -log2(p)\n",
      "          0.20 0.65      0.62\n"
     ]
    }
   ],
   "source": [
    "result = lifelines.statistics.logrank_test(T_0, T_1, event_observed_A=E_0, event_observed_B=E_1)\n",
    "result.print_summary()\n",
    "print(result.p_value)\n",
    "print(result.test_statistic)\n",
    "print('------------------------------------------------------------')\n",
    "\n",
    "result = lifelines.statistics.survival_difference_at_fixed_point_in_time_test(5, durations_A=T_0, durations_B=T_1,\n",
    "    event_observed_A=E_0, event_observed_B=E_1)\n",
    "result.print_summary()"
   ]
  },
  {
   "cell_type": "code",
   "execution_count": 7,
   "metadata": {},
   "outputs": [],
   "source": [
    "days_to_new_tumor = pickle.load(open('../prad_days_to_new_tumor_event.pkl', 'rb'))"
   ]
  },
  {
   "cell_type": "code",
   "execution_count": 8,
   "metadata": {},
   "outputs": [
    {
     "data": {
      "image/png": "[encoded data removed]",
      "text/plain": [
       "<Figure size 432x288 with 1 Axes>"
      ]
     },
     "metadata": {
      "needs_background": "light"
     },
     "output_type": "display_data"
    }
   ],
   "source": [
    "T_0, E_0 = [], []\n",
    "T_1, E_1 = [], []\n",
    "T, E = [], []\n",
    "for k, v in days_to_new_tumor.items():\n",
    "    if k in ypred.keys():\n",
    "        if ypred[k] == 0:\n",
    "            T_0.append(v[0] / 365)\n",
    "            E_0.append(v[1])\n",
    "        else:\n",
    "            T_1.append(v[0] / 365)\n",
    "            E_1.append(v[1])\n",
    "    else:\n",
    "        T.append(v[0] / 365)\n",
    "        E.append(v[1])\n",
    "            \n",
    "kmf = lifelines.KaplanMeierFitter()\n",
    "kmf.fit(T_0, E_0, label='0')\n",
    "ax = kmf.plot(show_censors=True)\n",
    "kmf.fit(T_1, E_1, label='1')\n",
    "ax = kmf.plot(show_censors=True, ax=ax)\n",
    "kmf.fit(T, E, label='Others')\n",
    "ax = kmf.plot(show_censors=True, ax=ax)"
   ]
  },
  {
   "cell_type": "code",
   "execution_count": 9,
   "metadata": {},
   "outputs": [
    {
     "name": "stdout",
     "output_type": "stream",
     "text": [
      "<lifelines.StatisticalResult>\n",
      "               t_0 = -1\n",
      " null_distribution = chi squared\n",
      "degrees_of_freedom = 1\n",
      "\n",
      "---\n",
      "test_statistic    p  -log2(p)\n",
      "          0.02 0.88      0.18\n",
      "0.8833913671995516\n",
      "0.02151250950755444\n",
      "------------------------------------------------------------\n",
      "<lifelines.StatisticalResult>\n",
      " null_distribution = chi squared\n",
      "degrees_of_freedom = 1\n",
      "     point_in_time = 5\n",
      "\n",
      "---\n",
      "test_statistic    p  -log2(p)\n",
      "          0.05 0.82      0.29\n"
     ]
    }
   ],
   "source": [
    "result = lifelines.statistics.logrank_test(T_0, T_1, event_observed_A=E_0, event_observed_B=E_1)\n",
    "result.print_summary()\n",
    "print(result.p_value)\n",
    "print(result.test_statistic)\n",
    "print('------------------------------------------------------------')\n",
    "\n",
    "result = lifelines.statistics.survival_difference_at_fixed_point_in_time_test(5, durations_A=T_0, durations_B=T_1,\n",
    "    event_observed_A=E_0, event_observed_B=E_1)\n",
    "result.print_summary()"
   ]
  },
  {
   "cell_type": "code",
   "execution_count": null,
   "metadata": {},
   "outputs": [],
   "source": []
  }
 ],
 "metadata": {
  "kernelspec": {
   "display_name": "Python 3",
   "language": "python",
   "name": "python3"
  },
  "language_info": {
   "codemirror_mode": {
    "name": "ipython",
    "version": 3
   },
   "file_extension": ".py",
   "mimetype": "text/x-python",
   "name": "python",
   "nbconvert_exporter": "python",
   "pygments_lexer": "ipython3",
   "version": "3.6.7"
  }
 },
 "nbformat": 4,
 "nbformat_minor": 2
}
